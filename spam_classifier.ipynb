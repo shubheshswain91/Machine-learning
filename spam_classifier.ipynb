{
  "nbformat": 4,
  "nbformat_minor": 0,
  "metadata": {
    "colab": {
      "name": "spam_classifier.ipynb",
      "provenance": [],
      "collapsed_sections": [],
      "authorship_tag": "ABX9TyOMG46yU/HoD5LMGzLIowFu",
      "include_colab_link": true
    },
    "kernelspec": {
      "name": "python3",
      "display_name": "Python 3"
    },
    "accelerator": "GPU"
  },
  "cells": [
    {
      "cell_type": "markdown",
      "metadata": {
        "id": "view-in-github",
        "colab_type": "text"
      },
      "source": [
        "<a href=\"https://colab.research.google.com/github/shubheshswain91/Machine-learning/blob/master/spam_classifier.ipynb\" target=\"_parent\"><img src=\"https://colab.research.google.com/assets/colab-badge.svg\" alt=\"Open In Colab\"/></a>"
      ]
    },
    {
      "cell_type": "markdown",
      "metadata": {
        "id": "AznRPVUTC-Fu",
        "colab_type": "text"
      },
      "source": [
        "**Task 2 - Build a simple spam classifier**"
      ]
    },
    {
      "cell_type": "markdown",
      "metadata": {
        "id": "WOqkpEnFJs1J",
        "colab_type": "text"
      },
      "source": [
        "Step by step approach\n",
        "* Defining the problem statement\n",
        "* Collecting the data\n",
        "* Exploratory data analysis\n",
        "* Feature engineering\n",
        "* Modelling\n",
        "* Testing"
      ]
    },
    {
      "cell_type": "markdown",
      "metadata": {
        "id": "DRPZyIFcJ9Ly",
        "colab_type": "text"
      },
      "source": [
        "1. **Problem statement**\n",
        "\n",
        " Task is to build a simple spam classifier."
      ]
    },
    {
      "cell_type": "markdown",
      "metadata": {
        "id": "QQRYP2AqKY_H",
        "colab_type": "text"
      },
      "source": [
        "2. **Collecting the data**"
      ]
    },
    {
      "cell_type": "code",
      "metadata": {
        "id": "3osgbTAwILGm",
        "colab_type": "code",
        "colab": {}
      },
      "source": [
        "import pandas as pd # 0.19.2 or newer\n",
        "import matplotlib.pyplot as plt\n",
        "import string\n",
        "from nltk.stem import SnowballStemmer\n",
        "from nltk.corpus import stopwords\n",
        "from sklearn.feature_extraction.text import TfidfVectorizer\n",
        "from sklearn.model_selection import train_test_split\n",
        "\n",
        "# Read data\n",
        "url=\"https://s3.amazonaws.com/alpaca-datasets/recruiting/nlp_assignment_dataset.csv\"\n",
        "data = pd.read_csv(url) \n",
        "\n",
        "\n",
        "\n",
        "# Train a classifier of your choice\n",
        "\n",
        "# Print the performance of your model (the performance itself does not matter at this stage)"
      ],
      "execution_count": 0,
      "outputs": []
    },
    {
      "cell_type": "markdown",
      "metadata": {
        "id": "t1BzaquMKfqw",
        "colab_type": "text"
      },
      "source": [
        "3. **Exploratory data analysis**\n"
      ]
    },
    {
      "cell_type": "code",
      "metadata": {
        "id": "oeiVSeLzIY0j",
        "colab_type": "code",
        "colab": {
          "base_uri": "https://localhost:8080/",
          "height": 164
        },
        "outputId": "4b269f82-ca23-421e-9130-8f2e797e7f09"
      },
      "source": [
        "data.describe()"
      ],
      "execution_count": 117,
      "outputs": [
        {
          "output_type": "execute_result",
          "data": {
            "text/html": [
              "<div>\n",
              "<style scoped>\n",
              "    .dataframe tbody tr th:only-of-type {\n",
              "        vertical-align: middle;\n",
              "    }\n",
              "\n",
              "    .dataframe tbody tr th {\n",
              "        vertical-align: top;\n",
              "    }\n",
              "\n",
              "    .dataframe thead th {\n",
              "        text-align: right;\n",
              "    }\n",
              "</style>\n",
              "<table border=\"1\" class=\"dataframe\">\n",
              "  <thead>\n",
              "    <tr style=\"text-align: right;\">\n",
              "      <th></th>\n",
              "      <th>text</th>\n",
              "      <th>has_link</th>\n",
              "      <th>has_image</th>\n",
              "      <th>label</th>\n",
              "    </tr>\n",
              "  </thead>\n",
              "  <tbody>\n",
              "    <tr>\n",
              "      <th>count</th>\n",
              "      <td>10000</td>\n",
              "      <td>10000</td>\n",
              "      <td>10000</td>\n",
              "      <td>10000</td>\n",
              "    </tr>\n",
              "    <tr>\n",
              "      <th>unique</th>\n",
              "      <td>9019</td>\n",
              "      <td>2</td>\n",
              "      <td>2</td>\n",
              "      <td>2</td>\n",
              "    </tr>\n",
              "    <tr>\n",
              "      <th>top</th>\n",
              "      <td>* New Monorover R2 Eletric Scooter\\r\\n* New Sa...</td>\n",
              "      <td>False</td>\n",
              "      <td>False</td>\n",
              "      <td>ham</td>\n",
              "    </tr>\n",
              "    <tr>\n",
              "      <th>freq</th>\n",
              "      <td>25</td>\n",
              "      <td>8210</td>\n",
              "      <td>6117</td>\n",
              "      <td>5000</td>\n",
              "    </tr>\n",
              "  </tbody>\n",
              "</table>\n",
              "</div>"
            ],
            "text/plain": [
              "                                                     text  ...  label\n",
              "count                                               10000  ...  10000\n",
              "unique                                               9019  ...      2\n",
              "top     * New Monorover R2 Eletric Scooter\\r\\n* New Sa...  ...    ham\n",
              "freq                                                   25  ...   5000\n",
              "\n",
              "[4 rows x 4 columns]"
            ]
          },
          "metadata": {
            "tags": []
          },
          "execution_count": 117
        }
      ]
    },
    {
      "cell_type": "code",
      "metadata": {
        "id": "84NROFJZIcnH",
        "colab_type": "code",
        "colab": {
          "base_uri": "https://localhost:8080/",
          "height": 194
        },
        "outputId": "6ce90845-cf4a-434b-d675-aab0e5477d4a"
      },
      "source": [
        "data.head()"
      ],
      "execution_count": 118,
      "outputs": [
        {
          "output_type": "execute_result",
          "data": {
            "text/html": [
              "<div>\n",
              "<style scoped>\n",
              "    .dataframe tbody tr th:only-of-type {\n",
              "        vertical-align: middle;\n",
              "    }\n",
              "\n",
              "    .dataframe tbody tr th {\n",
              "        vertical-align: top;\n",
              "    }\n",
              "\n",
              "    .dataframe thead th {\n",
              "        text-align: right;\n",
              "    }\n",
              "</style>\n",
              "<table border=\"1\" class=\"dataframe\">\n",
              "  <thead>\n",
              "    <tr style=\"text-align: right;\">\n",
              "      <th></th>\n",
              "      <th>text</th>\n",
              "      <th>has_link</th>\n",
              "      <th>has_image</th>\n",
              "      <th>label</th>\n",
              "    </tr>\n",
              "  </thead>\n",
              "  <tbody>\n",
              "    <tr>\n",
              "      <th>0</th>\n",
              "      <td>OFFERED: $1100 subletted room for 1 year\\n\\nWH...</td>\n",
              "      <td>False</td>\n",
              "      <td>False</td>\n",
              "      <td>ham</td>\n",
              "    </tr>\n",
              "    <tr>\n",
              "      <th>1</th>\n",
              "      <td>[wanted] I'm looking for a roommate who want t...</td>\n",
              "      <td>False</td>\n",
              "      <td>False</td>\n",
              "      <td>ham</td>\n",
              "    </tr>\n",
              "    <tr>\n",
              "      <th>2</th>\n",
              "      <td>Seeking either a studio, one bedroom or single...</td>\n",
              "      <td>False</td>\n",
              "      <td>False</td>\n",
              "      <td>ham</td>\n",
              "    </tr>\n",
              "    <tr>\n",
              "      <th>3</th>\n",
              "      <td>private room full furn includes all\\n\\nEntire\\...</td>\n",
              "      <td>False</td>\n",
              "      <td>True</td>\n",
              "      <td>ham</td>\n",
              "    </tr>\n",
              "    <tr>\n",
              "      <th>4</th>\n",
              "      <td>Jeansjacke\\n$59 - Dortmund\\n\\nhttps://instagra...</td>\n",
              "      <td>True</td>\n",
              "      <td>True</td>\n",
              "      <td>ham</td>\n",
              "    </tr>\n",
              "  </tbody>\n",
              "</table>\n",
              "</div>"
            ],
            "text/plain": [
              "                                                text  has_link  has_image label\n",
              "0  OFFERED: $1100 subletted room for 1 year\\n\\nWH...     False      False   ham\n",
              "1  [wanted] I'm looking for a roommate who want t...     False      False   ham\n",
              "2  Seeking either a studio, one bedroom or single...     False      False   ham\n",
              "3  private room full furn includes all\\n\\nEntire\\...     False       True   ham\n",
              "4  Jeansjacke\\n$59 - Dortmund\\n\\nhttps://instagra...      True       True   ham"
            ]
          },
          "metadata": {
            "tags": []
          },
          "execution_count": 118
        }
      ]
    },
    {
      "cell_type": "code",
      "metadata": {
        "id": "uso9fww9IjVn",
        "colab_type": "code",
        "colab": {
          "base_uri": "https://localhost:8080/",
          "height": 35
        },
        "outputId": "0834d976-114f-4534-bd2d-44af2d80da58"
      },
      "source": [
        "data.shape\n"
      ],
      "execution_count": 119,
      "outputs": [
        {
          "output_type": "execute_result",
          "data": {
            "text/plain": [
              "(10000, 4)"
            ]
          },
          "metadata": {
            "tags": []
          },
          "execution_count": 119
        }
      ]
    },
    {
      "cell_type": "code",
      "metadata": {
        "id": "Y-EcIdM-K3eJ",
        "colab_type": "code",
        "colab": {
          "base_uri": "https://localhost:8080/",
          "height": 177
        },
        "outputId": "b76eb3f4-6edd-408f-b151-731050c64c11"
      },
      "source": [
        "data.info()"
      ],
      "execution_count": 120,
      "outputs": [
        {
          "output_type": "stream",
          "text": [
            "<class 'pandas.core.frame.DataFrame'>\n",
            "RangeIndex: 10000 entries, 0 to 9999\n",
            "Data columns (total 4 columns):\n",
            "text         10000 non-null object\n",
            "has_link     10000 non-null bool\n",
            "has_image    10000 non-null bool\n",
            "label        10000 non-null object\n",
            "dtypes: bool(2), object(2)\n",
            "memory usage: 175.9+ KB\n"
          ],
          "name": "stdout"
        }
      ]
    },
    {
      "cell_type": "code",
      "metadata": {
        "id": "DRgzzR_aiJ-P",
        "colab_type": "code",
        "colab": {
          "base_uri": "https://localhost:8080/",
          "height": 106
        },
        "outputId": "6b99f238-79bf-49e8-d4c7-0a563632fcff"
      },
      "source": [
        "data.isnull().sum()"
      ],
      "execution_count": 121,
      "outputs": [
        {
          "output_type": "execute_result",
          "data": {
            "text/plain": [
              "text         0\n",
              "has_link     0\n",
              "has_image    0\n",
              "label        0\n",
              "dtype: int64"
            ]
          },
          "metadata": {
            "tags": []
          },
          "execution_count": 121
        }
      ]
    },
    {
      "cell_type": "markdown",
      "metadata": {
        "id": "LJDdYEmTLCMX",
        "colab_type": "text"
      },
      "source": [
        "3.1 **Data visualization**"
      ]
    },
    {
      "cell_type": "code",
      "metadata": {
        "id": "cD98etK1K4uO",
        "colab_type": "code",
        "colab": {}
      },
      "source": [
        "import matplotlib.pyplot as plt\n",
        "%matplotlib inline\n",
        "import seaborn as sns\n",
        "sns.set() # setting seaborn default for plots"
      ],
      "execution_count": 0,
      "outputs": []
    },
    {
      "cell_type": "code",
      "metadata": {
        "id": "4TsII0h5LyNA",
        "colab_type": "code",
        "colab": {
          "base_uri": "https://localhost:8080/",
          "height": 194
        },
        "outputId": "7834c731-2c63-4241-965e-7647626e0268"
      },
      "source": [
        "data.head()"
      ],
      "execution_count": 123,
      "outputs": [
        {
          "output_type": "execute_result",
          "data": {
            "text/html": [
              "<div>\n",
              "<style scoped>\n",
              "    .dataframe tbody tr th:only-of-type {\n",
              "        vertical-align: middle;\n",
              "    }\n",
              "\n",
              "    .dataframe tbody tr th {\n",
              "        vertical-align: top;\n",
              "    }\n",
              "\n",
              "    .dataframe thead th {\n",
              "        text-align: right;\n",
              "    }\n",
              "</style>\n",
              "<table border=\"1\" class=\"dataframe\">\n",
              "  <thead>\n",
              "    <tr style=\"text-align: right;\">\n",
              "      <th></th>\n",
              "      <th>text</th>\n",
              "      <th>has_link</th>\n",
              "      <th>has_image</th>\n",
              "      <th>label</th>\n",
              "    </tr>\n",
              "  </thead>\n",
              "  <tbody>\n",
              "    <tr>\n",
              "      <th>0</th>\n",
              "      <td>OFFERED: $1100 subletted room for 1 year\\n\\nWH...</td>\n",
              "      <td>False</td>\n",
              "      <td>False</td>\n",
              "      <td>ham</td>\n",
              "    </tr>\n",
              "    <tr>\n",
              "      <th>1</th>\n",
              "      <td>[wanted] I'm looking for a roommate who want t...</td>\n",
              "      <td>False</td>\n",
              "      <td>False</td>\n",
              "      <td>ham</td>\n",
              "    </tr>\n",
              "    <tr>\n",
              "      <th>2</th>\n",
              "      <td>Seeking either a studio, one bedroom or single...</td>\n",
              "      <td>False</td>\n",
              "      <td>False</td>\n",
              "      <td>ham</td>\n",
              "    </tr>\n",
              "    <tr>\n",
              "      <th>3</th>\n",
              "      <td>private room full furn includes all\\n\\nEntire\\...</td>\n",
              "      <td>False</td>\n",
              "      <td>True</td>\n",
              "      <td>ham</td>\n",
              "    </tr>\n",
              "    <tr>\n",
              "      <th>4</th>\n",
              "      <td>Jeansjacke\\n$59 - Dortmund\\n\\nhttps://instagra...</td>\n",
              "      <td>True</td>\n",
              "      <td>True</td>\n",
              "      <td>ham</td>\n",
              "    </tr>\n",
              "  </tbody>\n",
              "</table>\n",
              "</div>"
            ],
            "text/plain": [
              "                                                text  has_link  has_image label\n",
              "0  OFFERED: $1100 subletted room for 1 year\\n\\nWH...     False      False   ham\n",
              "1  [wanted] I'm looking for a roommate who want t...     False      False   ham\n",
              "2  Seeking either a studio, one bedroom or single...     False      False   ham\n",
              "3  private room full furn includes all\\n\\nEntire\\...     False       True   ham\n",
              "4  Jeansjacke\\n$59 - Dortmund\\n\\nhttps://instagra...      True       True   ham"
            ]
          },
          "metadata": {
            "tags": []
          },
          "execution_count": 123
        }
      ]
    },
    {
      "cell_type": "code",
      "metadata": {
        "id": "X0Y8AHVOLJgv",
        "colab_type": "code",
        "colab": {}
      },
      "source": [
        "def bar_chart(feature):\n",
        "    spam = data[data['label']=='spam'][feature].value_counts()\n",
        "    ham = data[data['label']=='ham'][feature].value_counts()\n",
        "    df = pd.DataFrame([spam,ham])\n",
        "    df.index = ['spam','ham']\n",
        "    df.plot(kind='bar',stacked=True, figsize=(10,5))"
      ],
      "execution_count": 0,
      "outputs": []
    },
    {
      "cell_type": "code",
      "metadata": {
        "id": "pPIlwjnlMuzb",
        "colab_type": "code",
        "colab": {
          "base_uri": "https://localhost:8080/",
          "height": 342
        },
        "outputId": "605506d8-096d-4517-c3c1-d5e7bae4727d"
      },
      "source": [
        "bar_chart('has_link')"
      ],
      "execution_count": 125,
      "outputs": [
        {
          "output_type": "display_data",
          "data": {
            "image/png": "[encoded data removed]",
            "text/plain": [
              "<Figure size 720x360 with 1 Axes>"
            ]
          },
          "metadata": {
            "tags": []
          }
        }
      ]
    },
    {
      "cell_type": "code",
      "metadata": {
        "id": "XddbbJ76MzQl",
        "colab_type": "code",
        "colab": {
          "base_uri": "https://localhost:8080/",
          "height": 342
        },
        "outputId": "2c7be84e-77e2-4483-d513-b27671cca4b3"
      },
      "source": [
        "bar_chart('has_image')"
      ],
      "execution_count": 126,
      "outputs": [
        {
          "output_type": "display_data",
          "data": {
            "image/png": "[encoded data removed]",
            "text/plain": [
              "<Figure size 720x360 with 1 Axes>"
            ]
          },
          "metadata": {
            "tags": []
          }
        }
      ]
    },
    {
      "cell_type": "code",
      "metadata": {
        "id": "T86VEMyCrS9x",
        "colab_type": "code",
        "colab": {}
      },
      "source": [
        "#data['label'] = data['label'].replace(['ham','spam'],[0,1])\n"
      ],
      "execution_count": 0,
      "outputs": []
    },
    {
      "cell_type": "code",
      "metadata": {
        "id": "NOyC1JjPtTls",
        "colab_type": "code",
        "colab": {
          "base_uri": "https://localhost:8080/",
          "height": 70
        },
        "outputId": "d8c5c789-5704-4e31-bdce-7f22f0c9c2d9"
      },
      "source": [
        "data['label'].value_counts()"
      ],
      "execution_count": 127,
      "outputs": [
        {
          "output_type": "execute_result",
          "data": {
            "text/plain": [
              "ham     5000\n",
              "spam    5000\n",
              "Name: label, dtype: int64"
            ]
          },
          "metadata": {
            "tags": []
          },
          "execution_count": 127
        }
      ]
    },
    {
      "cell_type": "markdown",
      "metadata": {
        "id": "n4pcJHSPa8g2",
        "colab_type": "text"
      },
      "source": [
        "**4.  Feature engineering**\n",
        "\n",
        "Before applying any model, I am going to do some preprocessing with the data I have. I am going to remove the stop words and converting the sentences into lowercase followed by stemming(ex: chocolates, choco -> to root word \"chocolate\""
      ]
    },
    {
      "cell_type": "code",
      "metadata": {
        "id": "AQKbs8vuNZm0",
        "colab_type": "code",
        "colab": {}
      },
      "source": [
        "def pre_process(text):\n",
        "    \n",
        "    text = text.translate(str.maketrans('', '', string.punctuation))\n",
        "    text = [word for word in text.split() if word.lower() not in stopwords.words('english')]\n",
        "    words = \"\"\n",
        "    for i in text:\n",
        "            stemmer = SnowballStemmer(\"english\")\n",
        "            words += (stemmer.stem(i))+\" \"\n",
        "    return words"
      ],
      "execution_count": 0,
      "outputs": []
    },
    {
      "cell_type": "code",
      "metadata": {
        "id": "sv4odgHleEY1",
        "colab_type": "code",
        "colab": {
          "base_uri": "https://localhost:8080/",
          "height": 70
        },
        "outputId": "9305bf28-4935-4829-a2ae-27aff2d5e431"
      },
      "source": [
        "import nltk\n",
        "nltk.download('stopwords')"
      ],
      "execution_count": 129,
      "outputs": [
        {
          "output_type": "stream",
          "text": [
            "[nltk_data] Downloading package stopwords to /root/nltk_data...\n",
            "[nltk_data]   Package stopwords is already up-to-date!\n"
          ],
          "name": "stdout"
        },
        {
          "output_type": "execute_result",
          "data": {
            "text/plain": [
              "True"
            ]
          },
          "metadata": {
            "tags": []
          },
          "execution_count": 129
        }
      ]
    },
    {
      "cell_type": "markdown",
      "metadata": {
        "id": "qzXD6hKwfmJW",
        "colab_type": "text"
      },
      "source": [
        "After data preprocessing, we will then tokenize the texts column values to bag of  words. We are using TfidfVectorizer here.\n",
        "TFIDF (term frequency - inverse document frequency) is a statistical method to tell how important a word is to a particular document by increasing the numerical value for an occurrence in the specific document but decreasing relative to number of occurrences in the entire corpus."
      ]
    },
    {
      "cell_type": "code",
      "metadata": {
        "id": "SgGUjvu-nwdj",
        "colab_type": "code",
        "colab": {}
      },
      "source": [
        "textFeatures = data['text'].copy()\n",
        "textFeatures = textFeatures.apply(pre_process)\n",
        "vectorizer = TfidfVectorizer(\"english\")\n",
        "features = vectorizer.fit_transform(textFeatures)\n"
      ],
      "execution_count": 0,
      "outputs": []
    },
    {
      "cell_type": "code",
      "metadata": {
        "id": "lNjNY3bulytA",
        "colab_type": "code",
        "colab": {
          "base_uri": "https://localhost:8080/",
          "height": 124
        },
        "outputId": "3b60f3aa-07aa-40f3-de74-4fffb93c39a3"
      },
      "source": [
        "textFeatures.head()"
      ],
      "execution_count": 131,
      "outputs": [
        {
          "output_type": "execute_result",
          "data": {
            "text/plain": [
              "0    offer 1100 sublet room 1 year look eclect hous...\n",
              "1    want im look roommat want share room find room...\n",
              "2    seek either studio one bedroom singl room two ...\n",
              "3    privat room full furn includ entir place1 bedr...\n",
              "4    jeansjack 59 dortmund httpsinstagramcompbeyiij...\n",
              "Name: text, dtype: object"
            ]
          },
          "metadata": {
            "tags": []
          },
          "execution_count": 131
        }
      ]
    },
    {
      "cell_type": "code",
      "metadata": {
        "id": "BQdtyXreowiw",
        "colab_type": "code",
        "colab": {
          "base_uri": "https://localhost:8080/",
          "height": 35
        },
        "outputId": "dc59de24-c689-418d-d836-1c6950710523"
      },
      "source": [
        "features.shape"
      ],
      "execution_count": 132,
      "outputs": [
        {
          "output_type": "execute_result",
          "data": {
            "text/plain": [
              "(10000, 33884)"
            ]
          },
          "metadata": {
            "tags": []
          },
          "execution_count": 132
        }
      ]
    },
    {
      "cell_type": "markdown",
      "metadata": {
        "id": "ysjoAUYMiAvd",
        "colab_type": "text"
      },
      "source": [
        "Now, each of 10000 text is represented by 33884 features, representing the tf-idf score for different unigrams and bigrams."
      ]
    },
    {
      "cell_type": "markdown",
      "metadata": {
        "id": "JIhzOI0DnuDJ",
        "colab_type": "text"
      },
      "source": [
        "**5. Modellling the data**\n",
        "\n",
        "First we need to split the data into training and testing. I am using 80% of data for training and 20% data for testing. Once our model is trained, we will test the model with unseen data to predict the results."
      ]
    },
    {
      "cell_type": "code",
      "metadata": {
        "id": "-gR7j8mSTiAH",
        "colab_type": "code",
        "colab": {}
      },
      "source": [
        "X_train, X_test, y_train, y_test = train_test_split(features, data['label'], test_size=0.2, random_state=10)"
      ],
      "execution_count": 0,
      "outputs": []
    },
    {
      "cell_type": "markdown",
      "metadata": {
        "id": "kMwdDe6FoPxL",
        "colab_type": "text"
      },
      "source": [
        "5.1 Here we are first trying the support vector machine to see the result."
      ]
    },
    {
      "cell_type": "code",
      "metadata": {
        "id": "85_WnbX1fVDT",
        "colab_type": "code",
        "colab": {
          "base_uri": "https://localhost:8080/",
          "height": 35
        },
        "outputId": "e8cb8a5a-35ec-4e5a-9206-b724fd401724"
      },
      "source": [
        "from sklearn.metrics import accuracy_score\n",
        "from sklearn.svm import SVC\n",
        "\n",
        "svc = SVC()\n",
        "svc.fit(X_train, y_train)\n",
        "prediction = svc.predict(X_test)\n",
        "accuracy_score(y_test,prediction)"
      ],
      "execution_count": 149,
      "outputs": [
        {
          "output_type": "execute_result",
          "data": {
            "text/plain": [
              "0.958"
            ]
          },
          "metadata": {
            "tags": []
          },
          "execution_count": 149
        }
      ]
    },
    {
      "cell_type": "code",
      "metadata": {
        "id": "gHUSAGD6qV_6",
        "colab_type": "code",
        "colab": {
          "base_uri": "https://localhost:8080/",
          "height": 266
        },
        "outputId": "9d5f5217-dd4f-4ae3-9c35-ba2b7a3444cf"
      },
      "source": [
        "from sklearn.metrics import classification_report,confusion_matrix, accuracy_score\n",
        "pred = svc.predict(X_train)\n",
        "print(classification_report(y_train ,pred ))\n",
        "print('Confusion Matrix: \\n',confusion_matrix(y_train,pred))\n",
        "print()\n",
        "print('Accuracy: ', accuracy_score(y_train,pred))"
      ],
      "execution_count": 150,
      "outputs": [
        {
          "output_type": "stream",
          "text": [
            "              precision    recall  f1-score   support\n",
            "\n",
            "         ham       0.99      0.99      0.99      3970\n",
            "        spam       0.99      0.99      0.99      4030\n",
            "\n",
            "    accuracy                           0.99      8000\n",
            "   macro avg       0.99      0.99      0.99      8000\n",
            "weighted avg       0.99      0.99      0.99      8000\n",
            "\n",
            "Confusion Matrix: \n",
            " [[3944   26]\n",
            " [  28 4002]]\n",
            "\n",
            "Accuracy:  0.99325\n"
          ],
          "name": "stdout"
        }
      ]
    },
    {
      "cell_type": "code",
      "metadata": {
        "id": "fbEhhRgLqiiT",
        "colab_type": "code",
        "colab": {
          "base_uri": "https://localhost:8080/",
          "height": 52
        },
        "outputId": "6842e948-d235-4618-cd2e-8c1ebef89428"
      },
      "source": [
        "print('Predicted value: ',svc.predict(X_test))\n",
        "print('Actual value: ',y_test.values)"
      ],
      "execution_count": 136,
      "outputs": [
        {
          "output_type": "stream",
          "text": [
            "Predicted value:  ['ham' 'spam' 'ham' ... 'ham' 'spam' 'ham']\n",
            "Actual value:  ['ham' 'spam' 'ham' ... 'ham' 'spam' 'ham']\n"
          ],
          "name": "stdout"
        }
      ]
    },
    {
      "cell_type": "markdown",
      "metadata": {
        "id": "OESDeEnOqLRi",
        "colab_type": "text"
      },
      "source": [
        "Now let's try evaluating the test data set with SVM.\n"
      ]
    },
    {
      "cell_type": "code",
      "metadata": {
        "id": "vdLCDbXvq1S6",
        "colab_type": "code",
        "colab": {
          "base_uri": "https://localhost:8080/",
          "height": 266
        },
        "outputId": "2dd84de7-0346-4634-ea07-1b5c67366a10"
      },
      "source": [
        "from sklearn.metrics import classification_report,confusion_matrix, accuracy_score\n",
        "pred = svc.predict(X_test)\n",
        "print(classification_report(y_test ,pred ))\n",
        "print('Confusion Matrix: \\n', confusion_matrix(y_test,pred))\n",
        "print()\n",
        "print('Accuracy: ', accuracy_score(y_test,pred))"
      ],
      "execution_count": 137,
      "outputs": [
        {
          "output_type": "stream",
          "text": [
            "              precision    recall  f1-score   support\n",
            "\n",
            "         ham       0.96      0.95      0.96      1030\n",
            "        spam       0.95      0.96      0.96       970\n",
            "\n",
            "    accuracy                           0.96      2000\n",
            "   macro avg       0.96      0.96      0.96      2000\n",
            "weighted avg       0.96      0.96      0.96      2000\n",
            "\n",
            "Confusion Matrix: \n",
            " [[982  48]\n",
            " [ 36 934]]\n",
            "\n",
            "Accuracy:  0.958\n"
          ],
          "name": "stdout"
        }
      ]
    },
    {
      "cell_type": "markdown",
      "metadata": {
        "id": "H4ISTZhipj2h",
        "colab_type": "text"
      },
      "source": [
        "5.2  Multinomial Naive bayes \n",
        "Lets check what is the result with Naive bayes approach."
      ]
    },
    {
      "cell_type": "code",
      "metadata": {
        "id": "4dYHy1z4fghS",
        "colab_type": "code",
        "colab": {
          "base_uri": "https://localhost:8080/",
          "height": 35
        },
        "outputId": "3a55a74c-5792-4c39-8417-fff08d4165d7"
      },
      "source": [
        "from sklearn.naive_bayes import MultinomialNB\n",
        "\n",
        "mnb = MultinomialNB(alpha=0.1)\n",
        "mnb.fit(X_train, y_train)\n",
        "prediction = mnb.predict(X_test)\n",
        "accuracy_score(y_test,prediction)"
      ],
      "execution_count": 143,
      "outputs": [
        {
          "output_type": "execute_result",
          "data": {
            "text/plain": [
              "0.922"
            ]
          },
          "metadata": {
            "tags": []
          },
          "execution_count": 143
        }
      ]
    },
    {
      "cell_type": "code",
      "metadata": {
        "id": "kQpBJwoKpV9J",
        "colab_type": "code",
        "colab": {
          "base_uri": "https://localhost:8080/",
          "height": 35
        },
        "outputId": "2407af30-259e-4601-8a21-c7db32cf9ad5"
      },
      "source": [
        "print(y_train.values)"
      ],
      "execution_count": 144,
      "outputs": [
        {
          "output_type": "stream",
          "text": [
            "['spam' 'spam' 'spam' ... 'ham' 'spam' 'ham']\n"
          ],
          "name": "stdout"
        }
      ]
    },
    {
      "cell_type": "code",
      "metadata": {
        "id": "6SVj2DI4pkSK",
        "colab_type": "code",
        "colab": {
          "base_uri": "https://localhost:8080/",
          "height": 266
        },
        "outputId": "995456da-68a6-4db4-8b83-0d6ca9ee1b1a"
      },
      "source": [
        "from sklearn.metrics import classification_report,confusion_matrix, accuracy_score\n",
        "pred = mnb.predict(X_train)\n",
        "print(classification_report(y_train ,pred ))\n",
        "print('Confusion Matrix: \\n',confusion_matrix(y_train,pred))\n",
        "print()\n",
        "print('Accuracy: ', accuracy_score(y_train,pred))"
      ],
      "execution_count": 145,
      "outputs": [
        {
          "output_type": "stream",
          "text": [
            "              precision    recall  f1-score   support\n",
            "\n",
            "         ham       0.94      0.99      0.96      3970\n",
            "        spam       0.99      0.94      0.96      4030\n",
            "\n",
            "    accuracy                           0.96      8000\n",
            "   macro avg       0.96      0.96      0.96      8000\n",
            "weighted avg       0.96      0.96      0.96      8000\n",
            "\n",
            "Confusion Matrix: \n",
            " [[3922   48]\n",
            " [ 249 3781]]\n",
            "\n",
            "Accuracy:  0.962875\n"
          ],
          "name": "stdout"
        }
      ]
    },
    {
      "cell_type": "code",
      "metadata": {
        "id": "3hvDqX64p42h",
        "colab_type": "code",
        "colab": {
          "base_uri": "https://localhost:8080/",
          "height": 52
        },
        "outputId": "bd77f56a-0102-424e-d588-f5afc4fa65af"
      },
      "source": [
        "print('Predicted value: ',mnb.predict(X_test))\n",
        "\n",
        "print('Actual value: ',y_test.values)"
      ],
      "execution_count": 146,
      "outputs": [
        {
          "output_type": "stream",
          "text": [
            "Predicted value:  ['ham' 'spam' 'ham' ... 'ham' 'ham' 'ham']\n",
            "Actual value:  ['ham' 'spam' 'ham' ... 'ham' 'spam' 'ham']\n"
          ],
          "name": "stdout"
        }
      ]
    },
    {
      "cell_type": "markdown",
      "metadata": {
        "id": "iJTfibNUqYu6",
        "colab_type": "text"
      },
      "source": [
        "Lets evaluate the test data with naive bayes.\n"
      ]
    },
    {
      "cell_type": "code",
      "metadata": {
        "id": "FTdvKTaxqAIg",
        "colab_type": "code",
        "colab": {
          "base_uri": "https://localhost:8080/",
          "height": 266
        },
        "outputId": "be8bea63-b897-4ca6-df1b-712eb34af2f4"
      },
      "source": [
        "\n",
        "from sklearn.metrics import classification_report,confusion_matrix, accuracy_score\n",
        "pred = mnb.predict(X_test)\n",
        "print(classification_report(y_test ,pred ))\n",
        "print('Confusion Matrix: \\n', confusion_matrix(y_test,pred))\n",
        "print()\n",
        "print('Accuracy: ', accuracy_score(y_test,pred))"
      ],
      "execution_count": 147,
      "outputs": [
        {
          "output_type": "stream",
          "text": [
            "              precision    recall  f1-score   support\n",
            "\n",
            "         ham       0.89      0.97      0.93      1030\n",
            "        spam       0.97      0.87      0.92       970\n",
            "\n",
            "    accuracy                           0.92      2000\n",
            "   macro avg       0.93      0.92      0.92      2000\n",
            "weighted avg       0.93      0.92      0.92      2000\n",
            "\n",
            "Confusion Matrix: \n",
            " [[1000   30]\n",
            " [ 126  844]]\n",
            "\n",
            "Accuracy:  0.922\n"
          ],
          "name": "stdout"
        }
      ]
    },
    {
      "cell_type": "markdown",
      "metadata": {
        "id": "HMxLCvjqqfb4",
        "colab_type": "text"
      },
      "source": [
        "As we can see here, SVM outperforms the naive bayes."
      ]
    }
  ]
}