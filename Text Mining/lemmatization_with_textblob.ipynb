{
  "nbformat": 4,
  "nbformat_minor": 0,
  "metadata": {
    "colab": {
      "name": "lemmatization_with_textblob.ipynb",
      "provenance": [],
      "collapsed_sections": [],
      "authorship_tag": "ABX9TyO11b1CaDELiihS4IwDMymb",
      "include_colab_link": true
    },
    "kernelspec": {
      "name": "python3",
      "display_name": "Python 3"
    },
    "language_info": {
      "name": "python"
    }
  },
  "cells": [
    {
      "cell_type": "markdown",
      "metadata": {
        "id": "view-in-github",
        "colab_type": "text"
      },
      "source": [
        "<a href=\"https://colab.research.google.com/github/shubheshswain91/Machine-learning/blob/master/lemmatization_with_textblob.ipynb\" target=\"_parent\"><img src=\"https://colab.research.google.com/assets/colab-badge.svg\" alt=\"Open In Colab\"/></a>"
      ]
    },
    {
      "cell_type": "code",
      "metadata": {
        "colab": {
          "base_uri": "https://localhost:8080/"
        },
        "id": "1Oj9I3XdkZRT",
        "outputId": "29a7f5ce-a621-4d0f-99ff-d0d08c11263a"
      },
      "source": [
        "import nltk\n",
        "from textblob import Word\n",
        "nltk.download('wordnet')\n"
      ],
      "execution_count": 5,
      "outputs": [
        {
          "output_type": "stream",
          "text": [
            "[nltk_data] Downloading package wordnet to /root/nltk_data...\n",
            "[nltk_data]   Unzipping corpora/wordnet.zip.\n"
          ],
          "name": "stdout"
        },
        {
          "output_type": "execute_result",
          "data": {
            "text/plain": [
              "True"
            ]
          },
          "metadata": {
            "tags": []
          },
          "execution_count": 5
        }
      ]
    },
    {
      "cell_type": "code",
      "metadata": {
        "colab": {
          "base_uri": "https://localhost:8080/"
        },
        "id": "reR08vfhkfzV",
        "outputId": "0a43abe4-acee-4269-aaab-ab799900af54"
      },
      "source": [
        "# create a Word object.\n",
        "u = Word(\"rocks\")\n",
        "  \n",
        "# apply lemmatization.\n",
        "print(\"rocks :\", u.lemmatize())\n",
        "  \n",
        "# create a Word object.\n",
        "v = Word(\"corpora\")\n",
        "  \n",
        "# apply lemmatization.\n",
        "print(\"corpora :\", v.lemmatize())\n",
        "  \n",
        "# create a Word object.\n",
        "w = Word(\"better\")\n",
        "   \n",
        "# apply lemmatization with \n",
        "# parameter \"a\", \"a\" denotes adjective.\n",
        "print(\"better :\", w.lemmatize(\"a\"))\n",
        "\n",
        "u = Word(\"symbols\")\n",
        "print(\"symbols:\" ,u.lemmatize())"
      ],
      "execution_count": 11,
      "outputs": [
        {
          "output_type": "stream",
          "text": [
            "rocks : rock\n",
            "corpora : corpus\n",
            "better : good\n",
            "symbols: symbol\n"
          ],
          "name": "stdout"
        }
      ]
    },
    {
      "cell_type": "code",
      "metadata": {
        "id": "7Mmc-r1XkmLT"
      },
      "source": [
        ""
      ],
      "execution_count": null,
      "outputs": []
    }
  ]
}
